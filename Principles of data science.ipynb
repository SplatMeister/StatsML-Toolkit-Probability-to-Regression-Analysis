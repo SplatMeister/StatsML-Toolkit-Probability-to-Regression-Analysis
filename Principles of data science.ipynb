{
 "cells": [
  {
   "attachments": {},
   "cell_type": "markdown",
   "metadata": {},
   "source": [
    "## Task 1\n",
    "\n",
    "### 1. Suppose you have a deck of cards containing 52 cards, with 13 cards in each suit (hearts, \n",
    "diamonds, clubs, spades). You randomly draw 5 cards from the deck without \n",
    "replacement. "
   ]
  },
  {
   "attachments": {},
   "cell_type": "markdown",
   "metadata": {},
   "source": [
    "d. Use python coding to demonstrate the same steps."
   ]
  },
  {
   "cell_type": "code",
   "execution_count": 29,
   "metadata": {},
   "outputs": [
    {
     "name": "stdout",
     "output_type": "stream",
     "text": [
      "The total number of outcomes :  2598960\n",
      "total number of favorable outcomes for one suit : 1287\n",
      "total number of favorable outcomes for 4 suits : 5148\n",
      "Probaboility of 5 cards being the same suit : 0.0019807923169267707 %\n"
     ]
    }
   ],
   "source": [
    "#Identifying the total number of outcomes.\n",
    "def factorial(n):\n",
    "    result = 1\n",
    "    for i in range(1, n + 1):\n",
    "        result *= i\n",
    "    return result\n",
    "\n",
    "#Total number of outcomes calculation\n",
    "total_number_outcomes = factorial(52) / (factorial(5) * factorial(52 - 5))\n",
    "print(\"The total number of outcomes : \", int(total_number_outcomes))\n",
    "\n",
    "#Calculating the total number of favorable outcomes.\n",
    "favorable_outcomes_one_suit = factorial(13) / (factorial(5) * factorial(13 - 5))\n",
    "print(\"total number of favorable outcomes for one suit :\", int(favorable_outcomes_one_suit))\n",
    "\n",
    "#Calculation for number of favorable outcomes for four suits\n",
    "favorable_outcomes_four_suits = favorable_outcomes_one_suit * 4\n",
    "print(\"total number of favorable outcomes for 4 suits :\", int(favorable_outcomes_four_suits))\n",
    "\n",
    "#Calulating the probability\n",
    "probability = favorable_outcomes_four_suits/total_number_outcomes\n",
    "print(\"Probaboility of 5 cards being the same suit :\", float(probability),\"%\")"
   ]
  },
  {
   "attachments": {},
   "cell_type": "markdown",
   "metadata": {},
   "source": [
    "e. Use ‘math’ function in python to do the same."
   ]
  },
  {
   "cell_type": "code",
   "execution_count": 30,
   "metadata": {},
   "outputs": [
    {
     "name": "stdout",
     "output_type": "stream",
     "text": [
      "The total number of outcomes : 2598960\n",
      "total number of favorable outcomes for 4 suits : 5148\n",
      "Probaboility of 5 cards being the same suit : 0.0019807923169267707\n"
     ]
    }
   ],
   "source": [
    "import math\n",
    "\n",
    "# Total number of cards (n=52) and the total number of ways Randomly drawn cards (r=5)\n",
    "total_ways = math.comb(52, 5)\n",
    "\n",
    "num_suits = 4\n",
    "\n",
    "# total number of favorable outcomes for 4 suits\n",
    "num_ways_same_suit = num_suits * math.comb(13, 5)\n",
    "\n",
    "# Calulating the probability\n",
    "probability = num_ways_same_suit / total_ways\n",
    "\n",
    "print(\"The total number of outcomes :\", total_ways)\n",
    "print(\"total number of favorable outcomes for 4 suits :\", num_ways_same_suit)\n",
    "print(\"Probaboility of 5 cards being the same suit :\", probability)\n"
   ]
  },
  {
   "attachments": {},
   "cell_type": "markdown",
   "metadata": {},
   "source": [
    "### 2. You are the manager of a manufacturing plant that produces light bulbs. You have historical data on the failure rate of your light bulbs, which is 2%. You receive a complaint from a customer who says that their package of 10 light bulbs contained 3 defective bulbs."
   ]
  },
  {
   "attachments": {},
   "cell_type": "markdown",
   "metadata": {},
   "source": [
    "i. Define the variables."
   ]
  },
  {
   "cell_type": "code",
   "execution_count": 31,
   "metadata": {},
   "outputs": [],
   "source": [
    "\n",
    "n = 10  # Batch size / the number of bulbs in a batch\n",
    "p = 0.02  # Failure rate and the Probability of a single light bulb being defective\n",
    "k = 3  # Defective bulb count"
   ]
  },
  {
   "attachments": {},
   "cell_type": "markdown",
   "metadata": {},
   "source": [
    "ii. Use ‘pmf’ function to calculate the likelihood."
   ]
  },
  {
   "cell_type": "code",
   "execution_count": 32,
   "metadata": {},
   "outputs": [
    {
     "name": "stdout",
     "output_type": "stream",
     "text": [
      "The probability that the entire batch of 10 bulbs is defective: 0.00000000000000001\n"
     ]
    }
   ],
   "source": [
    "from scipy.stats import binom\n",
    "\n",
    "# Using the 'pmf' function to calculate the probability that the entire batch is defective\n",
    "prob_defective = binom.pmf(n, n, p)\n",
    "\n",
    "print(f\"The probability that the entire batch of 10 bulbs is defective: {prob_defective:.17f}\")\n"
   ]
  },
  {
   "attachments": {},
   "cell_type": "markdown",
   "metadata": {},
   "source": [
    "iii. Calculate evidence or marginal likelihood. This is the probability of observing the data, regardless of the hypothesis."
   ]
  },
  {
   "cell_type": "code",
   "execution_count": 34,
   "metadata": {},
   "outputs": [
    {
     "name": "stdout",
     "output_type": "stream",
     "text": [
      "The marginal likelihood is: 0.9999999999999996\n"
     ]
    }
   ],
   "source": [
    "import scipy.stats\n",
    "# Defining the binomial distribution\n",
    "binom_dist = stats.binom(n, p)\n",
    "\n",
    "# Calculating the probabilities for each possible number of defective bulbs\n",
    "probabilities = [binom_dist.pmf(i) for i in range(n+1)]\n",
    "\n",
    "# Calculating the marginal likelihood (the sum of all these probabilities)\n",
    "marginal_likelihood = sum(probabilities)\n",
    "\n",
    "print(\"The marginal likelihood is:\", marginal_likelihood)"
   ]
  },
  {
   "attachments": {},
   "cell_type": "markdown",
   "metadata": {},
   "source": [
    "iv. Calculate the posterior probability distribution using Bayes' theorem."
   ]
  },
  {
   "cell_type": "code",
   "execution_count": null,
   "metadata": {},
   "outputs": [
    {
     "name": "stdout",
     "output_type": "stream",
     "text": [
      "The posterior probability: 0.00000000000002371\n"
     ]
    }
   ],
   "source": [
    "posterior_probability = (prob_defective * p) / evidence\n",
    "print(f\"The posterior probability: {posterior_probability:.17f}\")\n"
   ]
  },
  {
   "attachments": {},
   "cell_type": "markdown",
   "metadata": {},
   "source": [
    "3. Consider a dataset with n=50 observations and p=2 predictor variables X1 and X2, and a response variable Y. We want to fit a multiple linear regression model to predict Y based on the predictors."
   ]
  },
  {
   "attachments": {},
   "cell_type": "markdown",
   "metadata": {},
   "source": [
    "a. Write a function fit_linear_regression(X, Y) that takes in a matrix X of size n x p representing the predictor variables and a vector Y of length n representing the response variable, and returns the vector of fitted values Y_pred, the vector of residuals residuals, and the vector of estimated coefficients beta using matrix algebra. Your function should also calculate and print the R-squared value for the model."
   ]
  },
  {
   "cell_type": "code",
   "execution_count": 35,
   "metadata": {},
   "outputs": [],
   "source": [
    "import numpy as np\n",
    "\n",
    "def fit_linear_regression(X, Y):\n",
    "    # Add a column of ones to X for the intercept term\n",
    "    X = np.column_stack((np.ones(len(X)), X))\n",
    "    \n",
    "    # Calculate the estimated coefficients using matrix algebra\n",
    "    beta = np.linalg.inv(X.T.dot(X)).dot(X.T).dot(Y)\n",
    "    \n",
    "    # Calculate the fitted values\n",
    "    Y_pred = X.dot(beta)\n",
    "    \n",
    "    # Calculate the residuals\n",
    "    residuals = Y - Y_pred\n",
    "    \n",
    "    # Calculate the R-squared value\n",
    "    SSR = np.sum((Y_pred - np.mean(Y))**2)  # Regression sum of squares\n",
    "    SST = np.sum((Y - np.mean(Y))**2)  # Total sum of squares\n",
    "    r_squared = SSR / SST\n",
    "    \n",
    "    # Print the R-squared value\n",
    "    print(\"R-squared:\", r_squared)\n",
    "    \n",
    "    return Y_pred, residuals, beta\n"
   ]
  },
  {
   "attachments": {},
   "cell_type": "markdown",
   "metadata": {},
   "source": [
    "b. Generate a random dataset with n=50 observations and p=2 predictor variables X1 and X2 using the numpy random module. Set Y equal to 5 + 2*X1 - 3*X2 + error, where error is normally distributed with mean 0 and standard deviation 1."
   ]
  },
  {
   "cell_type": "code",
   "execution_count": 36,
   "metadata": {},
   "outputs": [],
   "source": [
    "import numpy as np\n",
    "\n",
    "# Set the random seed for reproducibility\n",
    "np.random.seed(42)\n",
    "\n",
    "# Set the number of observations (n) and predictor variables (p)\n",
    "n = 50\n",
    "p = 2\n",
    "\n",
    "# Generate predictor variables X1 and X2\n",
    "X1 = np.random.randn(n)\n",
    "X2 = np.random.randn(n)\n",
    "\n",
    "# Generate error term\n",
    "error = np.random.randn(n)\n",
    "\n",
    "# Calculate the response variable Y\n",
    "Y = 5 + 2*X1 - 3*X2 + error\n"
   ]
  },
  {
   "attachments": {},
   "cell_type": "markdown",
   "metadata": {},
   "source": [
    "c. Use your fit_linear_regression() function to fit a multiple linear regression model to the generated dataset."
   ]
  },
  {
   "cell_type": "code",
   "execution_count": 37,
   "metadata": {},
   "outputs": [
    {
     "name": "stdout",
     "output_type": "stream",
     "text": [
      "R-squared: 0.9128119099579354\n"
     ]
    }
   ],
   "source": [
    "# Fit the multiple linear regression model\n",
    "Y_pred, residuals, beta = fit_linear_regression(np.column_stack((X1, X2)), Y)\n"
   ]
  },
  {
   "attachments": {},
   "cell_type": "markdown",
   "metadata": {},
   "source": [
    "d. Plot the residuals vs fitted graph using matplotlib."
   ]
  },
  {
   "cell_type": "code",
   "execution_count": 38,
   "metadata": {},
   "outputs": [
    {
     "data": {
      "image/png": "[encoded data removed]",
      "text/plain": [
       "<Figure size 640x480 with 1 Axes>"
      ]
     },
     "metadata": {},
     "output_type": "display_data"
    }
   ],
   "source": [
    "import matplotlib.pyplot as plt\n",
    "\n",
    "# Plotting the residuals versus the fitted values\n",
    "plt.scatter(Y_pred, residuals)\n",
    "plt.xlabel('Fitted Values')\n",
    "plt.ylabel('Residuals')\n",
    "plt.title('Residuals vs Fitted Values')\n",
    "plt.show()\n"
   ]
  }
 ],
 "metadata": {
  "kernelspec": {
   "display_name": "base",
   "language": "python",
   "name": "python3"
  },
  "language_info": {
   "codemirror_mode": {
    "name": "ipython",
    "version": 3
   },
   "file_extension": ".py",
   "mimetype": "text/x-python",
   "name": "python",
   "nbconvert_exporter": "python",
   "pygments_lexer": "ipython3",
   "version": "3.9.16"
  },
  "orig_nbformat": 4
 },
 "nbformat": 4,
 "nbformat_minor": 2
}
